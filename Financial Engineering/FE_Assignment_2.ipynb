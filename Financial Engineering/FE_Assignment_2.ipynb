{
  "nbformat": 4,
  "nbformat_minor": 0,
  "metadata": {
    "kernelspec": {
      "display_name": "Python 3",
      "language": "python",
      "name": "python3"
    },
    "language_info": {
      "codemirror_mode": {
        "name": "ipython",
        "version": 3
      },
      "file_extension": ".py",
      "mimetype": "text/x-python",
      "name": "python",
      "nbconvert_exporter": "python",
      "pygments_lexer": "ipython3",
      "version": "3.7.6"
    },
    "colab": {
      "name": "FE_Assignment_2.ipynb",
      "provenance": [],
      "collapsed_sections": [
        "iNzFv66NwGic",
        "xfuOhzM1wGih"
      ]
    }
  },
  "cells": [
    {
      "cell_type": "markdown",
      "metadata": {
        "id": "0edwOhqcwGg_"
      },
      "source": [
        "## Markowitz efficient frontier"
      ]
    },
    {
      "cell_type": "code",
      "metadata": {
        "id": "q4z0QYRAwGhZ"
      },
      "source": [
        "import numpy as np\n",
        "import pandas as pd\n",
        "import matplotlib.pyplot as plt\n",
        "import seaborn as sns\n",
        "import plotly.graph_objects as go\n",
        "import plotly.express as px\n",
        "from pandas_datareader import data as wb\n",
        "import scipy.stats as sc\n",
        "from scipy.stats import norm\n",
        "%matplotlib inline"
      ],
      "execution_count": null,
      "outputs": []
    },
    {
      "cell_type": "code",
      "metadata": {
        "colab": {
          "base_uri": "https://localhost:8080/",
          "height": 235
        },
        "id": "GrUiufEDwlGq",
        "outputId": "d690c642-c0a4-4655-e0d4-8868674a8129"
      },
      "source": [
        "asset_list = ['AXP',\t'AMGN',\t'PFE',\t'SBUX',\t'MCD'\t,'NFLX',\t'GOOG',\t'AAPL',\t'FB',\t'TSLA']\n",
        "\n",
        "portfolio = pd.DataFrame()\n",
        "\n",
        "for asset in asset_list:\n",
        "    portfolio[asset] = wb.DataReader(asset, data_source='yahoo', start='2021-01-07')['Adj Close']\n",
        "\n",
        "portfolio.head()\n"
      ],
      "execution_count": null,
      "outputs": [
        {
          "output_type": "execute_result",
          "data": {
            "text/html": [
              "<div>\n",
              "<style scoped>\n",
              "    .dataframe tbody tr th:only-of-type {\n",
              "        vertical-align: middle;\n",
              "    }\n",
              "\n",
              "    .dataframe tbody tr th {\n",
              "        vertical-align: top;\n",
              "    }\n",
              "\n",
              "    .dataframe thead th {\n",
              "        text-align: right;\n",
              "    }\n",
              "</style>\n",
              "<table border=\"1\" class=\"dataframe\">\n",
              "  <thead>\n",
              "    <tr style=\"text-align: right;\">\n",
              "      <th></th>\n",
              "      <th>AXP</th>\n",
              "      <th>AMGN</th>\n",
              "      <th>PFE</th>\n",
              "      <th>SBUX</th>\n",
              "      <th>MCD</th>\n",
              "      <th>NFLX</th>\n",
              "      <th>GOOG</th>\n",
              "      <th>AAPL</th>\n",
              "      <th>FB</th>\n",
              "      <th>TSLA</th>\n",
              "    </tr>\n",
              "    <tr>\n",
              "      <th>Date</th>\n",
              "      <th></th>\n",
              "      <th></th>\n",
              "      <th></th>\n",
              "      <th></th>\n",
              "      <th></th>\n",
              "      <th></th>\n",
              "      <th></th>\n",
              "      <th></th>\n",
              "      <th></th>\n",
              "      <th></th>\n",
              "    </tr>\n",
              "  </thead>\n",
              "  <tbody>\n",
              "    <tr>\n",
              "      <th>2021-01-07</th>\n",
              "      <td>121.295418</td>\n",
              "      <td>232.292786</td>\n",
              "      <td>36.661175</td>\n",
              "      <td>102.911873</td>\n",
              "      <td>210.683701</td>\n",
              "      <td>508.890015</td>\n",
              "      <td>1787.250000</td>\n",
              "      <td>130.724655</td>\n",
              "      <td>268.739990</td>\n",
              "      <td>816.039978</td>\n",
              "    </tr>\n",
              "    <tr>\n",
              "      <th>2021-01-08</th>\n",
              "      <td>121.415054</td>\n",
              "      <td>236.729797</td>\n",
              "      <td>36.730423</td>\n",
              "      <td>105.222038</td>\n",
              "      <td>214.549911</td>\n",
              "      <td>510.399994</td>\n",
              "      <td>1807.209961</td>\n",
              "      <td>131.852966</td>\n",
              "      <td>267.570007</td>\n",
              "      <td>880.020020</td>\n",
              "    </tr>\n",
              "    <tr>\n",
              "      <th>2021-01-11</th>\n",
              "      <td>120.697212</td>\n",
              "      <td>235.816589</td>\n",
              "      <td>37.363533</td>\n",
              "      <td>104.156570</td>\n",
              "      <td>212.919937</td>\n",
              "      <td>499.100006</td>\n",
              "      <td>1766.719971</td>\n",
              "      <td>128.787552</td>\n",
              "      <td>256.839996</td>\n",
              "      <td>811.190002</td>\n",
              "    </tr>\n",
              "    <tr>\n",
              "      <th>2021-01-12</th>\n",
              "      <td>121.255539</td>\n",
              "      <td>234.843811</td>\n",
              "      <td>36.779884</td>\n",
              "      <td>102.384117</td>\n",
              "      <td>210.306030</td>\n",
              "      <td>494.250000</td>\n",
              "      <td>1746.550049</td>\n",
              "      <td>128.607819</td>\n",
              "      <td>251.089996</td>\n",
              "      <td>849.440002</td>\n",
              "    </tr>\n",
              "    <tr>\n",
              "      <th>2021-01-13</th>\n",
              "      <td>122.033203</td>\n",
              "      <td>235.985321</td>\n",
              "      <td>36.463326</td>\n",
              "      <td>102.453819</td>\n",
              "      <td>210.793030</td>\n",
              "      <td>507.790009</td>\n",
              "      <td>1754.400024</td>\n",
              "      <td>130.694702</td>\n",
              "      <td>251.639999</td>\n",
              "      <td>854.409973</td>\n",
              "    </tr>\n",
              "  </tbody>\n",
              "</table>\n",
              "</div>"
            ],
            "text/plain": [
              "                   AXP        AMGN  ...          FB        TSLA\n",
              "Date                                ...                        \n",
              "2021-01-07  121.295418  232.292786  ...  268.739990  816.039978\n",
              "2021-01-08  121.415054  236.729797  ...  267.570007  880.020020\n",
              "2021-01-11  120.697212  235.816589  ...  256.839996  811.190002\n",
              "2021-01-12  121.255539  234.843811  ...  251.089996  849.440002\n",
              "2021-01-13  122.033203  235.985321  ...  251.639999  854.409973\n",
              "\n",
              "[5 rows x 10 columns]"
            ]
          },
          "metadata": {
            "tags": []
          },
          "execution_count": 312
        }
      ]
    },
    {
      "cell_type": "markdown",
      "metadata": {
        "id": "bDSjMgK4wGh2"
      },
      "source": [
        "### Calculating Risk and Returns"
      ]
    },
    {
      "cell_type": "code",
      "metadata": {
        "colab": {
          "base_uri": "https://localhost:8080/",
          "height": 450
        },
        "id": "5Se3_vudwGh3",
        "outputId": "91f7ac9c-7dcb-4261-b7fa-dbb285031fed"
      },
      "source": [
        "# Daily Percentage Returns\n",
        "\n",
        "stock_returns = portfolio.pct_change(1)\n",
        "stock_returns = stock_returns.dropna()\n",
        "stock_returns"
      ],
      "execution_count": null,
      "outputs": [
        {
          "output_type": "execute_result",
          "data": {
            "text/html": [
              "<div>\n",
              "<style scoped>\n",
              "    .dataframe tbody tr th:only-of-type {\n",
              "        vertical-align: middle;\n",
              "    }\n",
              "\n",
              "    .dataframe tbody tr th {\n",
              "        vertical-align: top;\n",
              "    }\n",
              "\n",
              "    .dataframe thead th {\n",
              "        text-align: right;\n",
              "    }\n",
              "</style>\n",
              "<table border=\"1\" class=\"dataframe\">\n",
              "  <thead>\n",
              "    <tr style=\"text-align: right;\">\n",
              "      <th></th>\n",
              "      <th>AXP</th>\n",
              "      <th>AMGN</th>\n",
              "      <th>PFE</th>\n",
              "      <th>SBUX</th>\n",
              "      <th>MCD</th>\n",
              "      <th>NFLX</th>\n",
              "      <th>GOOG</th>\n",
              "      <th>AAPL</th>\n",
              "      <th>FB</th>\n",
              "      <th>TSLA</th>\n",
              "    </tr>\n",
              "    <tr>\n",
              "      <th>Date</th>\n",
              "      <th></th>\n",
              "      <th></th>\n",
              "      <th></th>\n",
              "      <th></th>\n",
              "      <th></th>\n",
              "      <th></th>\n",
              "      <th></th>\n",
              "      <th></th>\n",
              "      <th></th>\n",
              "      <th></th>\n",
              "    </tr>\n",
              "  </thead>\n",
              "  <tbody>\n",
              "    <tr>\n",
              "      <th>2021-01-08</th>\n",
              "      <td>0.000986</td>\n",
              "      <td>0.019101</td>\n",
              "      <td>0.001889</td>\n",
              "      <td>0.022448</td>\n",
              "      <td>0.018351</td>\n",
              "      <td>0.002967</td>\n",
              "      <td>0.011168</td>\n",
              "      <td>0.008631</td>\n",
              "      <td>-0.004354</td>\n",
              "      <td>0.078403</td>\n",
              "    </tr>\n",
              "    <tr>\n",
              "      <th>2021-01-11</th>\n",
              "      <td>-0.005912</td>\n",
              "      <td>-0.003858</td>\n",
              "      <td>0.017237</td>\n",
              "      <td>-0.010126</td>\n",
              "      <td>-0.007597</td>\n",
              "      <td>-0.022139</td>\n",
              "      <td>-0.022405</td>\n",
              "      <td>-0.023249</td>\n",
              "      <td>-0.040102</td>\n",
              "      <td>-0.078214</td>\n",
              "    </tr>\n",
              "    <tr>\n",
              "      <th>2021-01-12</th>\n",
              "      <td>0.004626</td>\n",
              "      <td>-0.004125</td>\n",
              "      <td>-0.015621</td>\n",
              "      <td>-0.017017</td>\n",
              "      <td>-0.012276</td>\n",
              "      <td>-0.009718</td>\n",
              "      <td>-0.011417</td>\n",
              "      <td>-0.001396</td>\n",
              "      <td>-0.022387</td>\n",
              "      <td>0.047153</td>\n",
              "    </tr>\n",
              "    <tr>\n",
              "      <th>2021-01-13</th>\n",
              "      <td>0.006413</td>\n",
              "      <td>0.004861</td>\n",
              "      <td>-0.008607</td>\n",
              "      <td>0.000681</td>\n",
              "      <td>0.002316</td>\n",
              "      <td>0.027395</td>\n",
              "      <td>0.004495</td>\n",
              "      <td>0.016227</td>\n",
              "      <td>0.002190</td>\n",
              "      <td>0.005851</td>\n",
              "    </tr>\n",
              "    <tr>\n",
              "      <th>2021-01-14</th>\n",
              "      <td>0.011274</td>\n",
              "      <td>0.016489</td>\n",
              "      <td>-0.002984</td>\n",
              "      <td>-0.010399</td>\n",
              "      <td>-0.016927</td>\n",
              "      <td>-0.013647</td>\n",
              "      <td>-0.008105</td>\n",
              "      <td>-0.015127</td>\n",
              "      <td>-0.023844</td>\n",
              "      <td>-0.011013</td>\n",
              "    </tr>\n",
              "    <tr>\n",
              "      <th>...</th>\n",
              "      <td>...</td>\n",
              "      <td>...</td>\n",
              "      <td>...</td>\n",
              "      <td>...</td>\n",
              "      <td>...</td>\n",
              "      <td>...</td>\n",
              "      <td>...</td>\n",
              "      <td>...</td>\n",
              "      <td>...</td>\n",
              "      <td>...</td>\n",
              "    </tr>\n",
              "    <tr>\n",
              "      <th>2021-04-05</th>\n",
              "      <td>0.010306</td>\n",
              "      <td>0.011438</td>\n",
              "      <td>-0.000551</td>\n",
              "      <td>0.014994</td>\n",
              "      <td>0.016163</td>\n",
              "      <td>0.002317</td>\n",
              "      <td>0.041071</td>\n",
              "      <td>0.023577</td>\n",
              "      <td>0.034320</td>\n",
              "      <td>0.044277</td>\n",
              "    </tr>\n",
              "    <tr>\n",
              "      <th>2021-04-06</th>\n",
              "      <td>0.000616</td>\n",
              "      <td>-0.011586</td>\n",
              "      <td>-0.006340</td>\n",
              "      <td>0.019186</td>\n",
              "      <td>0.013371</td>\n",
              "      <td>0.007139</td>\n",
              "      <td>-0.000359</td>\n",
              "      <td>0.002462</td>\n",
              "      <td>-0.008579</td>\n",
              "      <td>0.000825</td>\n",
              "    </tr>\n",
              "    <tr>\n",
              "      <th>2021-04-07</th>\n",
              "      <td>0.006706</td>\n",
              "      <td>-0.003934</td>\n",
              "      <td>-0.003883</td>\n",
              "      <td>0.000354</td>\n",
              "      <td>0.003018</td>\n",
              "      <td>0.004518</td>\n",
              "      <td>0.011206</td>\n",
              "      <td>0.013390</td>\n",
              "      <td>0.022301</td>\n",
              "      <td>-0.029857</td>\n",
              "    </tr>\n",
              "    <tr>\n",
              "      <th>2021-04-08</th>\n",
              "      <td>-0.000612</td>\n",
              "      <td>-0.004998</td>\n",
              "      <td>0.001392</td>\n",
              "      <td>-0.001325</td>\n",
              "      <td>-0.010146</td>\n",
              "      <td>0.013876</td>\n",
              "      <td>0.007005</td>\n",
              "      <td>0.019234</td>\n",
              "      <td>-0.000224</td>\n",
              "      <td>0.019122</td>\n",
              "    </tr>\n",
              "    <tr>\n",
              "      <th>2021-04-09</th>\n",
              "      <td>0.005033</td>\n",
              "      <td>0.008385</td>\n",
              "      <td>0.017798</td>\n",
              "      <td>0.001238</td>\n",
              "      <td>0.005342</td>\n",
              "      <td>0.001316</td>\n",
              "      <td>0.009023</td>\n",
              "      <td>0.020252</td>\n",
              "      <td>-0.001789</td>\n",
              "      <td>-0.009915</td>\n",
              "    </tr>\n",
              "  </tbody>\n",
              "</table>\n",
              "<p>63 rows × 10 columns</p>\n",
              "</div>"
            ],
            "text/plain": [
              "                 AXP      AMGN       PFE  ...      AAPL        FB      TSLA\n",
              "Date                                      ...                              \n",
              "2021-01-08  0.000986  0.019101  0.001889  ...  0.008631 -0.004354  0.078403\n",
              "2021-01-11 -0.005912 -0.003858  0.017237  ... -0.023249 -0.040102 -0.078214\n",
              "2021-01-12  0.004626 -0.004125 -0.015621  ... -0.001396 -0.022387  0.047153\n",
              "2021-01-13  0.006413  0.004861 -0.008607  ...  0.016227  0.002190  0.005851\n",
              "2021-01-14  0.011274  0.016489 -0.002984  ... -0.015127 -0.023844 -0.011013\n",
              "...              ...       ...       ...  ...       ...       ...       ...\n",
              "2021-04-05  0.010306  0.011438 -0.000551  ...  0.023577  0.034320  0.044277\n",
              "2021-04-06  0.000616 -0.011586 -0.006340  ...  0.002462 -0.008579  0.000825\n",
              "2021-04-07  0.006706 -0.003934 -0.003883  ...  0.013390  0.022301 -0.029857\n",
              "2021-04-08 -0.000612 -0.004998  0.001392  ...  0.019234 -0.000224  0.019122\n",
              "2021-04-09  0.005033  0.008385  0.017798  ...  0.020252 -0.001789 -0.009915\n",
              "\n",
              "[63 rows x 10 columns]"
            ]
          },
          "metadata": {
            "tags": []
          },
          "execution_count": 313
        }
      ]
    },
    {
      "cell_type": "code",
      "metadata": {
        "colab": {
          "base_uri": "https://localhost:8080/",
          "height": 596
        },
        "id": "w0CLbY8zwGh4",
        "outputId": "66705db4-fd46-448b-f1ed-32f8e736c06a"
      },
      "source": [
        "stock_returns.plot(kind = 'line', figsize = (16,10))"
      ],
      "execution_count": null,
      "outputs": [
        {
          "output_type": "execute_result",
          "data": {
            "text/plain": [
              "<matplotlib.axes._subplots.AxesSubplot at 0x7f150a4d1b90>"
            ]
          },
          "metadata": {
            "tags": []
          },
          "execution_count": 314
        },
        {
          "output_type": "display_data",
          "data": {
            "image/png": "[encoded data removed]",
            "text/plain": [
              "<Figure size 1152x720 with 1 Axes>"
            ]
          },
          "metadata": {
            "tags": [],
            "needs_background": "light"
          }
        }
      ]
    },
    {
      "cell_type": "code",
      "metadata": {
        "colab": {
          "base_uri": "https://localhost:8080/"
        },
        "id": "H7d5ywVOwGh7",
        "outputId": "902558c7-f80a-4871-c108-4493fbe284a8"
      },
      "source": [
        "daily_risk = stock_returns.std()\n",
        "daily_risk"
      ],
      "execution_count": null,
      "outputs": [
        {
          "output_type": "execute_result",
          "data": {
            "text/plain": [
              "AXP     0.018827\n",
              "AMGN    0.012173\n",
              "PFE     0.009848\n",
              "SBUX    0.016743\n",
              "MCD     0.011735\n",
              "NFLX    0.029540\n",
              "GOOG    0.019934\n",
              "AAPL    0.019991\n",
              "FB      0.020839\n",
              "TSLA    0.045096\n",
              "dtype: float64"
            ]
          },
          "metadata": {
            "tags": []
          },
          "execution_count": 315
        }
      ]
    },
    {
      "cell_type": "code",
      "metadata": {
        "colab": {
          "base_uri": "https://localhost:8080/"
        },
        "id": "3bdmEIEnwGh7",
        "outputId": "f786a409-381f-4e62-ad21-e1b7650ed870"
      },
      "source": [
        "monthly_risk = daily_vol*np.sqrt(21)\n",
        "monthly_risk"
      ],
      "execution_count": null,
      "outputs": [
        {
          "output_type": "execute_result",
          "data": {
            "text/plain": [
              "AXP     0.086275\n",
              "AMGN    0.055782\n",
              "PFE     0.045131\n",
              "SBUX    0.076725\n",
              "MCD     0.053777\n",
              "NFLX    0.135370\n",
              "GOOG    0.091351\n",
              "AAPL    0.091609\n",
              "FB      0.095496\n",
              "TSLA    0.206657\n",
              "dtype: float64"
            ]
          },
          "metadata": {
            "tags": []
          },
          "execution_count": 316
        }
      ]
    },
    {
      "cell_type": "code",
      "metadata": {
        "colab": {
          "base_uri": "https://localhost:8080/"
        },
        "id": "EJYTopz-wGh8",
        "outputId": "28af9d23-4c72-4f90-8feb-1cf0b23b7504"
      },
      "source": [
        "ann_risk = daily_vol*np.sqrt(252)\n",
        "ann_risk"
      ],
      "execution_count": null,
      "outputs": [
        {
          "output_type": "execute_result",
          "data": {
            "text/plain": [
              "AXP     0.298867\n",
              "AMGN    0.193235\n",
              "PFE     0.156339\n",
              "SBUX    0.265784\n",
              "MCD     0.186288\n",
              "NFLX    0.468935\n",
              "GOOG    0.316448\n",
              "AAPL    0.317344\n",
              "FB      0.330809\n",
              "TSLA    0.715881\n",
              "dtype: float64"
            ]
          },
          "metadata": {
            "tags": []
          },
          "execution_count": 317
        }
      ]
    },
    {
      "cell_type": "code",
      "metadata": {
        "colab": {
          "base_uri": "https://localhost:8080/"
        },
        "id": "NxCx2679wGh9",
        "outputId": "fdeb2a68-5cd3-4cdf-cf89-7e130d867c2a"
      },
      "source": [
        "ann_returns = ((1+stock_returns).prod()**(252/stock_returns.shape[0])) - 1\n",
        "ann_returns"
      ],
      "execution_count": null,
      "outputs": [
        {
          "output_type": "execute_result",
          "data": {
            "text/plain": [
              "AXP     1.203358\n",
              "AMGN    0.319185\n",
              "PFE    -0.006658\n",
              "SBUX    0.462907\n",
              "MCD     0.457237\n",
              "NFLX    0.417902\n",
              "GOOG    1.675916\n",
              "AAPL    0.071461\n",
              "FB      0.827463\n",
              "TSLA   -0.526238\n",
              "dtype: float64"
            ]
          },
          "metadata": {
            "tags": []
          },
          "execution_count": 318
        }
      ]
    },
    {
      "cell_type": "code",
      "metadata": {
        "colab": {
          "base_uri": "https://localhost:8080/"
        },
        "id": "muRdME5AwGh-",
        "outputId": "7c56b354-cfb1-4e63-81f2-b5fdb01083ed"
      },
      "source": [
        "(1 + stock_returns.mean())**(252) - 1"
      ],
      "execution_count": null,
      "outputs": [
        {
          "output_type": "execute_result",
          "data": {
            "text/plain": [
              "AXP     1.301966\n",
              "AMGN    0.343616\n",
              "PFE     0.005364\n",
              "SBUX    0.514790\n",
              "MCD     0.482271\n",
              "NFLX    0.572042\n",
              "GOOG    1.809081\n",
              "AAPL    0.125778\n",
              "FB      0.928324\n",
              "TSLA   -0.394468\n",
              "dtype: float64"
            ]
          },
          "metadata": {
            "tags": []
          },
          "execution_count": 319
        }
      ]
    },
    {
      "cell_type": "markdown",
      "metadata": {
        "id": "XUYOM16vwGik"
      },
      "source": [
        "## Minimum risk on Markowitz efficient frontier"
      ]
    },
    {
      "cell_type": "code",
      "metadata": {
        "id": "JD5w2UIKwGil"
      },
      "source": [
        "def gmv(cov):\n",
        "    n = cov.shape[0]\n",
        "    return msr(0, np.repeat(1, n), cov)"
      ],
      "execution_count": null,
      "outputs": []
    },
    {
      "cell_type": "code",
      "metadata": {
        "colab": {
          "base_uri": "https://localhost:8080/",
          "height": 359
        },
        "id": "D7Een8DUwGil",
        "outputId": "c72229e6-3a0d-40a1-e167-933a56dd4b48"
      },
      "source": [
        "w_gmv = gmv(cov)\n",
        "pd.DataFrame({'Weights': w_gmv}, index= stock_returns.columns)"
      ],
      "execution_count": null,
      "outputs": [
        {
          "output_type": "execute_result",
          "data": {
            "text/html": [
              "<div>\n",
              "<style scoped>\n",
              "    .dataframe tbody tr th:only-of-type {\n",
              "        vertical-align: middle;\n",
              "    }\n",
              "\n",
              "    .dataframe tbody tr th {\n",
              "        vertical-align: top;\n",
              "    }\n",
              "\n",
              "    .dataframe thead th {\n",
              "        text-align: right;\n",
              "    }\n",
              "</style>\n",
              "<table border=\"1\" class=\"dataframe\">\n",
              "  <thead>\n",
              "    <tr style=\"text-align: right;\">\n",
              "      <th></th>\n",
              "      <th>Weights</th>\n",
              "    </tr>\n",
              "  </thead>\n",
              "  <tbody>\n",
              "    <tr>\n",
              "      <th>AXP</th>\n",
              "      <td>0.158224</td>\n",
              "    </tr>\n",
              "    <tr>\n",
              "      <th>AMGN</th>\n",
              "      <td>0.029583</td>\n",
              "    </tr>\n",
              "    <tr>\n",
              "      <th>PFE</th>\n",
              "      <td>0.527023</td>\n",
              "    </tr>\n",
              "    <tr>\n",
              "      <th>SBUX</th>\n",
              "      <td>0.007015</td>\n",
              "    </tr>\n",
              "    <tr>\n",
              "      <th>MCD</th>\n",
              "      <td>0.169043</td>\n",
              "    </tr>\n",
              "    <tr>\n",
              "      <th>NFLX</th>\n",
              "      <td>0.000000</td>\n",
              "    </tr>\n",
              "    <tr>\n",
              "      <th>GOOG</th>\n",
              "      <td>0.054464</td>\n",
              "    </tr>\n",
              "    <tr>\n",
              "      <th>AAPL</th>\n",
              "      <td>0.026382</td>\n",
              "    </tr>\n",
              "    <tr>\n",
              "      <th>FB</th>\n",
              "      <td>0.012160</td>\n",
              "    </tr>\n",
              "    <tr>\n",
              "      <th>TSLA</th>\n",
              "      <td>0.016105</td>\n",
              "    </tr>\n",
              "  </tbody>\n",
              "</table>\n",
              "</div>"
            ],
            "text/plain": [
              "       Weights\n",
              "AXP   0.158224\n",
              "AMGN  0.029583\n",
              "PFE   0.527023\n",
              "SBUX  0.007015\n",
              "MCD   0.169043\n",
              "NFLX  0.000000\n",
              "GOOG  0.054464\n",
              "AAPL  0.026382\n",
              "FB    0.012160\n",
              "TSLA  0.016105"
            ]
          },
          "metadata": {
            "tags": []
          },
          "execution_count": 321
        }
      ]
    },
    {
      "cell_type": "code",
      "metadata": {
        "colab": {
          "base_uri": "https://localhost:8080/",
          "height": 313
        },
        "id": "PA91-rDewGim",
        "outputId": "17b6d910-9523-4ba3-d7d0-550a86f5e52b"
      },
      "source": [
        "ax = plot_ef(100, ann_returns, cov*12)\n",
        "w_gmv = gmv(cov)\n",
        "ret_gmv = portfolio_return(w_gmv, ann_returns)\n",
        "vol_gmv = portfolio_vol(w_gmv, cov*12)\n",
        "ax.plot([vol_gmv], [ret_gmv], color = 'midnightblue', marker= 'o', markersize=8)\n",
        "ax.set_xlim(left = 0)\n",
        "ax.set_title('Minimum risk on Markowitz efficient frontier')"
      ],
      "execution_count": null,
      "outputs": [
        {
          "output_type": "execute_result",
          "data": {
            "text/plain": [
              "Text(0.5, 1.0, 'Minimum risk on Markowitz efficient frontier')"
            ]
          },
          "metadata": {
            "tags": []
          },
          "execution_count": 310
        },
        {
          "output_type": "display_data",
          "data": {
            "image/png": "[encoded data removed]",
            "text/plain": [
              "<Figure size 432x288 with 1 Axes>"
            ]
          },
          "metadata": {
            "tags": [],
            "needs_background": "light"
          }
        }
      ]
    },
    {
      "cell_type": "code",
      "metadata": {
        "colab": {
          "base_uri": "https://localhost:8080/"
        },
        "id": "6OpodyLdwGin",
        "outputId": "7bd6d31a-4409-4876-9ecc-602aec930719"
      },
      "source": [
        "# minimum risk point on curve\n",
        "ret_gmv, vol_gmv"
      ],
      "execution_count": null,
      "outputs": [
        {
          "output_type": "execute_result",
          "data": {
            "text/plain": [
              "(0.37162355071351716, 0.12028382844044773)"
            ]
          },
          "metadata": {
            "tags": []
          },
          "execution_count": 322
        }
      ]
    },
    {
      "cell_type": "markdown",
      "metadata": {
        "id": "1YpZ8EU5wGiZ"
      },
      "source": [
        "### Sharpe Ratio"
      ]
    },
    {
      "cell_type": "markdown",
      "metadata": {
        "id": "B3IvvX1cwGia"
      },
      "source": [
        "$$ Sharpe Ratio = \\frac{R{p} - r_f}{sigma{(p)}} $$"
      ]
    },
    {
      "cell_type": "code",
      "metadata": {
        "colab": {
          "base_uri": "https://localhost:8080/"
        },
        "id": "ZNHkoAovwGia",
        "outputId": "1b650997-a9f1-464b-e11e-b2a07bfc047b"
      },
      "source": [
        "\n",
        "# We have used the risk free rate here equal to 5% (annual).\n",
        "\n",
        "daily_sharpe_ratio = ((((1+stock_returns.mean())) - 1))/(stock_returns.std())\n",
        "sharpe_ratio = daily_sharpe_ratio*(np.sqrt(252*5))\n",
        "sharpe_ratio"
      ],
      "execution_count": null,
      "outputs": [
        {
          "output_type": "execute_result",
          "data": {
            "text/plain": [
              "AXP     6.248398\n",
              "AMGN    3.419885\n",
              "PFE     0.076510\n",
              "SBUX    3.496641\n",
              "MCD     4.727882\n",
              "NFLX    2.159042\n",
              "GOOG    7.313292\n",
              "AAPL    0.834992\n",
              "FB      4.444351\n",
              "TSLA   -1.565346\n",
              "dtype: float64"
            ]
          },
          "metadata": {
            "tags": []
          },
          "execution_count": 324
        }
      ]
    },
    {
      "cell_type": "markdown",
      "metadata": {
        "id": "QKLiIpFYwGib"
      },
      "source": [
        "Sharpe Ratio >= 1 is generally considered to be good.\n"
      ]
    },
    {
      "cell_type": "markdown",
      "metadata": {
        "id": "iNzFv66NwGic"
      },
      "source": [
        "## Efficient Frontier"
      ]
    },
    {
      "cell_type": "markdown",
      "metadata": {
        "id": "JlS_WKXYwGic"
      },
      "source": [
        "<i> The efficient frontier is the set of optimal portfolios that offer the highest expected return for a defined level of risk or the lowest risk for a given level of expected return. Portfolios that lie below the efficient frontier are sub-optimal because they do not provide enough return for the level of risk."
      ]
    },
    {
      "cell_type": "code",
      "metadata": {
        "colab": {
          "base_uri": "https://localhost:8080/",
          "height": 359
        },
        "id": "4gm9KBNowGic",
        "outputId": "97ec3d50-7a56-4fcb-c568-35f71002df22"
      },
      "source": [
        "\n",
        "cov = stock_returns.cov()*21\n",
        "cov"
      ],
      "execution_count": null,
      "outputs": [
        {
          "output_type": "execute_result",
          "data": {
            "text/html": [
              "<div>\n",
              "<style scoped>\n",
              "    .dataframe tbody tr th:only-of-type {\n",
              "        vertical-align: middle;\n",
              "    }\n",
              "\n",
              "    .dataframe tbody tr th {\n",
              "        vertical-align: top;\n",
              "    }\n",
              "\n",
              "    .dataframe thead th {\n",
              "        text-align: right;\n",
              "    }\n",
              "</style>\n",
              "<table border=\"1\" class=\"dataframe\">\n",
              "  <thead>\n",
              "    <tr style=\"text-align: right;\">\n",
              "      <th></th>\n",
              "      <th>AXP</th>\n",
              "      <th>AMGN</th>\n",
              "      <th>PFE</th>\n",
              "      <th>SBUX</th>\n",
              "      <th>MCD</th>\n",
              "      <th>NFLX</th>\n",
              "      <th>GOOG</th>\n",
              "      <th>AAPL</th>\n",
              "      <th>FB</th>\n",
              "      <th>TSLA</th>\n",
              "    </tr>\n",
              "  </thead>\n",
              "  <tbody>\n",
              "    <tr>\n",
              "      <th>AXP</th>\n",
              "      <td>0.007443</td>\n",
              "      <td>0.000372</td>\n",
              "      <td>-0.000211</td>\n",
              "      <td>0.001255</td>\n",
              "      <td>0.000553</td>\n",
              "      <td>0.001539</td>\n",
              "      <td>0.001391</td>\n",
              "      <td>-0.000484</td>\n",
              "      <td>-0.000615</td>\n",
              "      <td>-0.001830</td>\n",
              "    </tr>\n",
              "    <tr>\n",
              "      <th>AMGN</th>\n",
              "      <td>0.000372</td>\n",
              "      <td>0.003112</td>\n",
              "      <td>0.001195</td>\n",
              "      <td>0.001123</td>\n",
              "      <td>0.001325</td>\n",
              "      <td>0.002201</td>\n",
              "      <td>0.001221</td>\n",
              "      <td>0.002225</td>\n",
              "      <td>0.002675</td>\n",
              "      <td>0.002190</td>\n",
              "    </tr>\n",
              "    <tr>\n",
              "      <th>PFE</th>\n",
              "      <td>-0.000211</td>\n",
              "      <td>0.001195</td>\n",
              "      <td>0.002037</td>\n",
              "      <td>0.000476</td>\n",
              "      <td>0.000769</td>\n",
              "      <td>-0.000409</td>\n",
              "      <td>-0.000127</td>\n",
              "      <td>0.000494</td>\n",
              "      <td>0.000355</td>\n",
              "      <td>-0.000837</td>\n",
              "    </tr>\n",
              "    <tr>\n",
              "      <th>SBUX</th>\n",
              "      <td>0.001255</td>\n",
              "      <td>0.001123</td>\n",
              "      <td>0.000476</td>\n",
              "      <td>0.005887</td>\n",
              "      <td>0.002119</td>\n",
              "      <td>0.004537</td>\n",
              "      <td>0.002874</td>\n",
              "      <td>0.002194</td>\n",
              "      <td>0.002482</td>\n",
              "      <td>0.004907</td>\n",
              "    </tr>\n",
              "    <tr>\n",
              "      <th>MCD</th>\n",
              "      <td>0.000553</td>\n",
              "      <td>0.001325</td>\n",
              "      <td>0.000769</td>\n",
              "      <td>0.002119</td>\n",
              "      <td>0.002892</td>\n",
              "      <td>0.003168</td>\n",
              "      <td>0.001499</td>\n",
              "      <td>0.001332</td>\n",
              "      <td>0.001862</td>\n",
              "      <td>0.001904</td>\n",
              "    </tr>\n",
              "    <tr>\n",
              "      <th>NFLX</th>\n",
              "      <td>0.001539</td>\n",
              "      <td>0.002201</td>\n",
              "      <td>-0.000409</td>\n",
              "      <td>0.004537</td>\n",
              "      <td>0.003168</td>\n",
              "      <td>0.018325</td>\n",
              "      <td>0.007379</td>\n",
              "      <td>0.005798</td>\n",
              "      <td>0.006414</td>\n",
              "      <td>0.008491</td>\n",
              "    </tr>\n",
              "    <tr>\n",
              "      <th>GOOG</th>\n",
              "      <td>0.001391</td>\n",
              "      <td>0.001221</td>\n",
              "      <td>-0.000127</td>\n",
              "      <td>0.002874</td>\n",
              "      <td>0.001499</td>\n",
              "      <td>0.007379</td>\n",
              "      <td>0.008345</td>\n",
              "      <td>0.004111</td>\n",
              "      <td>0.005381</td>\n",
              "      <td>0.007104</td>\n",
              "    </tr>\n",
              "    <tr>\n",
              "      <th>AAPL</th>\n",
              "      <td>-0.000484</td>\n",
              "      <td>0.002225</td>\n",
              "      <td>0.000494</td>\n",
              "      <td>0.002194</td>\n",
              "      <td>0.001332</td>\n",
              "      <td>0.005798</td>\n",
              "      <td>0.004111</td>\n",
              "      <td>0.008392</td>\n",
              "      <td>0.005752</td>\n",
              "      <td>0.012442</td>\n",
              "    </tr>\n",
              "    <tr>\n",
              "      <th>FB</th>\n",
              "      <td>-0.000615</td>\n",
              "      <td>0.002675</td>\n",
              "      <td>0.000355</td>\n",
              "      <td>0.002482</td>\n",
              "      <td>0.001862</td>\n",
              "      <td>0.006414</td>\n",
              "      <td>0.005381</td>\n",
              "      <td>0.005752</td>\n",
              "      <td>0.009120</td>\n",
              "      <td>0.009231</td>\n",
              "    </tr>\n",
              "    <tr>\n",
              "      <th>TSLA</th>\n",
              "      <td>-0.001830</td>\n",
              "      <td>0.002190</td>\n",
              "      <td>-0.000837</td>\n",
              "      <td>0.004907</td>\n",
              "      <td>0.001904</td>\n",
              "      <td>0.008491</td>\n",
              "      <td>0.007104</td>\n",
              "      <td>0.012442</td>\n",
              "      <td>0.009231</td>\n",
              "      <td>0.042707</td>\n",
              "    </tr>\n",
              "  </tbody>\n",
              "</table>\n",
              "</div>"
            ],
            "text/plain": [
              "           AXP      AMGN       PFE  ...      AAPL        FB      TSLA\n",
              "AXP   0.007443  0.000372 -0.000211  ... -0.000484 -0.000615 -0.001830\n",
              "AMGN  0.000372  0.003112  0.001195  ...  0.002225  0.002675  0.002190\n",
              "PFE  -0.000211  0.001195  0.002037  ...  0.000494  0.000355 -0.000837\n",
              "SBUX  0.001255  0.001123  0.000476  ...  0.002194  0.002482  0.004907\n",
              "MCD   0.000553  0.001325  0.000769  ...  0.001332  0.001862  0.001904\n",
              "NFLX  0.001539  0.002201 -0.000409  ...  0.005798  0.006414  0.008491\n",
              "GOOG  0.001391  0.001221 -0.000127  ...  0.004111  0.005381  0.007104\n",
              "AAPL -0.000484  0.002225  0.000494  ...  0.008392  0.005752  0.012442\n",
              "FB   -0.000615  0.002675  0.000355  ...  0.005752  0.009120  0.009231\n",
              "TSLA -0.001830  0.002190 -0.000837  ...  0.012442  0.009231  0.042707\n",
              "\n",
              "[10 rows x 10 columns]"
            ]
          },
          "metadata": {
            "tags": []
          },
          "execution_count": 325
        }
      ]
    },
    {
      "cell_type": "code",
      "metadata": {
        "scrolled": true,
        "colab": {
          "base_uri": "https://localhost:8080/",
          "height": 359
        },
        "id": "1lApBf1AwGid",
        "outputId": "05d8de44-30bf-47d7-d385-e1b52d636fb8"
      },
      "source": [
        "stock_returns.corr()    "
      ],
      "execution_count": null,
      "outputs": [
        {
          "output_type": "execute_result",
          "data": {
            "text/html": [
              "<div>\n",
              "<style scoped>\n",
              "    .dataframe tbody tr th:only-of-type {\n",
              "        vertical-align: middle;\n",
              "    }\n",
              "\n",
              "    .dataframe tbody tr th {\n",
              "        vertical-align: top;\n",
              "    }\n",
              "\n",
              "    .dataframe thead th {\n",
              "        text-align: right;\n",
              "    }\n",
              "</style>\n",
              "<table border=\"1\" class=\"dataframe\">\n",
              "  <thead>\n",
              "    <tr style=\"text-align: right;\">\n",
              "      <th></th>\n",
              "      <th>AXP</th>\n",
              "      <th>AMGN</th>\n",
              "      <th>PFE</th>\n",
              "      <th>SBUX</th>\n",
              "      <th>MCD</th>\n",
              "      <th>NFLX</th>\n",
              "      <th>GOOG</th>\n",
              "      <th>AAPL</th>\n",
              "      <th>FB</th>\n",
              "      <th>TSLA</th>\n",
              "    </tr>\n",
              "  </thead>\n",
              "  <tbody>\n",
              "    <tr>\n",
              "      <th>AXP</th>\n",
              "      <td>1.000000</td>\n",
              "      <td>0.077234</td>\n",
              "      <td>-0.054267</td>\n",
              "      <td>0.189629</td>\n",
              "      <td>0.119142</td>\n",
              "      <td>0.131741</td>\n",
              "      <td>0.176510</td>\n",
              "      <td>-0.061288</td>\n",
              "      <td>-0.074662</td>\n",
              "      <td>-0.102638</td>\n",
              "    </tr>\n",
              "    <tr>\n",
              "      <th>AMGN</th>\n",
              "      <td>0.077234</td>\n",
              "      <td>1.000000</td>\n",
              "      <td>0.474754</td>\n",
              "      <td>0.262490</td>\n",
              "      <td>0.441736</td>\n",
              "      <td>0.291466</td>\n",
              "      <td>0.239570</td>\n",
              "      <td>0.435394</td>\n",
              "      <td>0.502157</td>\n",
              "      <td>0.189972</td>\n",
              "    </tr>\n",
              "    <tr>\n",
              "      <th>PFE</th>\n",
              "      <td>-0.054267</td>\n",
              "      <td>0.474754</td>\n",
              "      <td>1.000000</td>\n",
              "      <td>0.137380</td>\n",
              "      <td>0.316801</td>\n",
              "      <td>-0.066964</td>\n",
              "      <td>-0.030758</td>\n",
              "      <td>0.119468</td>\n",
              "      <td>0.082478</td>\n",
              "      <td>-0.089712</td>\n",
              "    </tr>\n",
              "    <tr>\n",
              "      <th>SBUX</th>\n",
              "      <td>0.189629</td>\n",
              "      <td>0.262490</td>\n",
              "      <td>0.137380</td>\n",
              "      <td>1.000000</td>\n",
              "      <td>0.513645</td>\n",
              "      <td>0.436853</td>\n",
              "      <td>0.410042</td>\n",
              "      <td>0.312147</td>\n",
              "      <td>0.338782</td>\n",
              "      <td>0.309471</td>\n",
              "    </tr>\n",
              "    <tr>\n",
              "      <th>MCD</th>\n",
              "      <td>0.119142</td>\n",
              "      <td>0.441736</td>\n",
              "      <td>0.316801</td>\n",
              "      <td>0.513645</td>\n",
              "      <td>1.000000</td>\n",
              "      <td>0.435166</td>\n",
              "      <td>0.305223</td>\n",
              "      <td>0.270378</td>\n",
              "      <td>0.362625</td>\n",
              "      <td>0.171322</td>\n",
              "    </tr>\n",
              "    <tr>\n",
              "      <th>NFLX</th>\n",
              "      <td>0.131741</td>\n",
              "      <td>0.291466</td>\n",
              "      <td>-0.066964</td>\n",
              "      <td>0.436853</td>\n",
              "      <td>0.435166</td>\n",
              "      <td>1.000000</td>\n",
              "      <td>0.596744</td>\n",
              "      <td>0.467564</td>\n",
              "      <td>0.496168</td>\n",
              "      <td>0.303503</td>\n",
              "    </tr>\n",
              "    <tr>\n",
              "      <th>GOOG</th>\n",
              "      <td>0.176510</td>\n",
              "      <td>0.239570</td>\n",
              "      <td>-0.030758</td>\n",
              "      <td>0.410042</td>\n",
              "      <td>0.305223</td>\n",
              "      <td>0.596744</td>\n",
              "      <td>1.000000</td>\n",
              "      <td>0.491235</td>\n",
              "      <td>0.616847</td>\n",
              "      <td>0.376282</td>\n",
              "    </tr>\n",
              "    <tr>\n",
              "      <th>AAPL</th>\n",
              "      <td>-0.061288</td>\n",
              "      <td>0.435394</td>\n",
              "      <td>0.119468</td>\n",
              "      <td>0.312147</td>\n",
              "      <td>0.270378</td>\n",
              "      <td>0.467564</td>\n",
              "      <td>0.491235</td>\n",
              "      <td>1.000000</td>\n",
              "      <td>0.657460</td>\n",
              "      <td>0.657208</td>\n",
              "    </tr>\n",
              "    <tr>\n",
              "      <th>FB</th>\n",
              "      <td>-0.074662</td>\n",
              "      <td>0.502157</td>\n",
              "      <td>0.082478</td>\n",
              "      <td>0.338782</td>\n",
              "      <td>0.362625</td>\n",
              "      <td>0.496168</td>\n",
              "      <td>0.616847</td>\n",
              "      <td>0.657460</td>\n",
              "      <td>1.000000</td>\n",
              "      <td>0.467753</td>\n",
              "    </tr>\n",
              "    <tr>\n",
              "      <th>TSLA</th>\n",
              "      <td>-0.102638</td>\n",
              "      <td>0.189972</td>\n",
              "      <td>-0.089712</td>\n",
              "      <td>0.309471</td>\n",
              "      <td>0.171322</td>\n",
              "      <td>0.303503</td>\n",
              "      <td>0.376282</td>\n",
              "      <td>0.657208</td>\n",
              "      <td>0.467753</td>\n",
              "      <td>1.000000</td>\n",
              "    </tr>\n",
              "  </tbody>\n",
              "</table>\n",
              "</div>"
            ],
            "text/plain": [
              "           AXP      AMGN       PFE  ...      AAPL        FB      TSLA\n",
              "AXP   1.000000  0.077234 -0.054267  ... -0.061288 -0.074662 -0.102638\n",
              "AMGN  0.077234  1.000000  0.474754  ...  0.435394  0.502157  0.189972\n",
              "PFE  -0.054267  0.474754  1.000000  ...  0.119468  0.082478 -0.089712\n",
              "SBUX  0.189629  0.262490  0.137380  ...  0.312147  0.338782  0.309471\n",
              "MCD   0.119142  0.441736  0.316801  ...  0.270378  0.362625  0.171322\n",
              "NFLX  0.131741  0.291466 -0.066964  ...  0.467564  0.496168  0.303503\n",
              "GOOG  0.176510  0.239570 -0.030758  ...  0.491235  0.616847  0.376282\n",
              "AAPL -0.061288  0.435394  0.119468  ...  1.000000  0.657460  0.657208\n",
              "FB   -0.074662  0.502157  0.082478  ...  0.657460  1.000000  0.467753\n",
              "TSLA -0.102638  0.189972 -0.089712  ...  0.657208  0.467753  1.000000\n",
              "\n",
              "[10 rows x 10 columns]"
            ]
          },
          "metadata": {
            "tags": []
          },
          "execution_count": 326
        }
      ]
    },
    {
      "cell_type": "code",
      "metadata": {
        "id": "_TKyNOsrwGie"
      },
      "source": [
        "\n",
        "def portfolio_return(weights, er):\n",
        "    \n",
        "    return weights.T @ er\n",
        "\n",
        "# @ -> matrix multiplication"
      ],
      "execution_count": null,
      "outputs": []
    },
    {
      "cell_type": "code",
      "metadata": {
        "id": "Rqe-76m6wGie"
      },
      "source": [
        "\n",
        "def portfolio_vol(weights, covmat):\n",
        "    \n",
        "    return (weights.T @ covmat @ weights)**0.5\n",
        "\n",
        "# @ -> matrix multiplication"
      ],
      "execution_count": null,
      "outputs": []
    },
    {
      "cell_type": "code",
      "metadata": {
        "id": "8qdLGvW5wGif"
      },
      "source": [
        "from scipy.optimize import minimize"
      ],
      "execution_count": null,
      "outputs": []
    },
    {
      "cell_type": "code",
      "metadata": {
        "id": "IRnR-WyGwGif"
      },
      "source": [
        "def minimize_vol(target_return, er, cov):\n",
        "    '''\n",
        "    taget_ret -> W\n",
        "    '''\n",
        "    n = er.shape[0]\n",
        "    init_guess = np.repeat(1/n, n)\n",
        "    bounds = ((0.0, 1.0),)*n\n",
        "    return_is_target = {\n",
        "        'type' : 'eq',\n",
        "        'args' : (er,),\n",
        "        'fun' : lambda weights, er : target_return - portfolio_return(weights, er)\n",
        "    }\n",
        "    weights_sum_to_1 = {\n",
        "        'type' : 'eq',\n",
        "        'fun' : lambda weights : np.sum(weights) - 1\n",
        "    }\n",
        "    results = minimize(portfolio_vol, init_guess,\n",
        "                       args = (cov,), method = 'SLSQP',\n",
        "                       options={'disp': False},\n",
        "                       constraints= (return_is_target, weights_sum_to_1),\n",
        "                       bounds = bounds\n",
        "                      )\n",
        "    return results.x"
      ],
      "execution_count": null,
      "outputs": []
    },
    {
      "cell_type": "code",
      "metadata": {
        "id": "YF77sAF-wGif"
      },
      "source": [
        "def optimal_weights(n_points, er, cov):\n",
        "    '''\n",
        "    -> list of weights to run the optimizer on to minimize the vol\n",
        "    '''\n",
        "    target_rs = np.linspace(er.min(), er.max(), n_points)\n",
        "    weights = [minimize_vol(target_return, er, cov) for target_return in target_rs]\n",
        "    return weights"
      ],
      "execution_count": null,
      "outputs": []
    },
    {
      "cell_type": "code",
      "metadata": {
        "id": "b7x-Zq7MwGig"
      },
      "source": [
        "def plot_ef(n_points, er, cov):\n",
        "    '''\n",
        "    Plots efficient frontier for a portfolio with multiple assets \n",
        "    '''\n",
        "    weights = optimal_weights(n_points, er, cov)\n",
        "    rets = [portfolio_return(w, er) for w in weights]\n",
        "    vols = np.array([portfolio_vol(w, cov) for w in weights])\n",
        "    ef = pd.DataFrame({'Returns': rets, 'Volatility': vols})\n",
        "    fig = ef.plot(x='Volatility', y='Returns', style='.-', color='green')\n",
        "    \n",
        "    return fig"
      ],
      "execution_count": null,
      "outputs": []
    },
    {
      "cell_type": "code",
      "metadata": {
        "colab": {
          "base_uri": "https://localhost:8080/",
          "height": 296
        },
        "id": "xiRo3zr3wGig",
        "outputId": "5e8859c8-ac97-43bc-fecc-a8b9f29009fb"
      },
      "source": [
        "\n",
        "plot_ef(1000, ((1+stock_returns.mean())**252)-1, cov*12)"
      ],
      "execution_count": null,
      "outputs": [
        {
          "output_type": "execute_result",
          "data": {
            "text/plain": [
              "<matplotlib.axes._subplots.AxesSubplot at 0x7f150ab18550>"
            ]
          },
          "metadata": {
            "tags": []
          },
          "execution_count": 333
        },
        {
          "output_type": "display_data",
          "data": {
            "image/png": "[encoded data removed]",
            "text/plain": [
              "<Figure size 432x288 with 1 Axes>"
            ]
          },
          "metadata": {
            "tags": [],
            "needs_background": "light"
          }
        }
      ]
    },
    {
      "cell_type": "markdown",
      "metadata": {
        "id": "xfuOhzM1wGih"
      },
      "source": [
        "## Calculating Max Sharpe Ratio portfolio and CML (Capital Market Line)"
      ]
    },
    {
      "cell_type": "code",
      "metadata": {
        "id": "8WKl3Js0wGii"
      },
      "source": [
        "def msr(risk_free_rate, er, cov):\n",
        "    '''\n",
        "    Expected returns + Risk-free rate + Cov -> W\n",
        "    '''\n",
        "    n = er.shape[0]\n",
        "    init_guess = np.repeat(1/n, n)\n",
        "    bounds = ((0.0, 1.0),)*n\n",
        "    weights_sum_to_1 = {\n",
        "        'type' : 'eq',\n",
        "        'fun' : lambda weights : np.sum(weights) - 1\n",
        "    }\n",
        "    \n",
        "    def neg_sharpe_ratio(weights, risk_free_rate, er, cov):\n",
        "        '''\n",
        "        Returns the negative sharpe ratio, given weights\n",
        "        '''\n",
        "        r = portfolio_return(weights, er)\n",
        "        vol = portfolio_vol(weights, cov)\n",
        "        return -(r - risk_free_rate)/vol\n",
        "    \n",
        "    results = minimize(neg_sharpe_ratio, init_guess,\n",
        "                       args = (risk_free_rate, er,cov,), method = 'SLSQP',\n",
        "                       options={'disp': False},\n",
        "                       constraints= (weights_sum_to_1),\n",
        "                        bounds = bounds\n",
        "                       )\n",
        "    return results.x\n"
      ],
      "execution_count": null,
      "outputs": []
    },
    {
      "cell_type": "code",
      "metadata": {
        "colab": {
          "base_uri": "https://localhost:8080/",
          "height": 313
        },
        "id": "i5ePyyLJwGii",
        "outputId": "72d4bb13-931e-4192-f0c4-bf375b636218"
      },
      "source": [
        "w_msr = msr(0.1, ann_returns, cov*12)\n",
        "ret_msr = portfolio_return(w_msr, ann_returns)\n",
        "vol_msr = portfolio_vol(w_msr, cov*12)\n",
        "ax = plot_ef(1000, ann_returns, cov*12)\n",
        "\n",
        "cml_x = [0, vol_msr]\n",
        "cml_y = [0.1, ret_msr]\n",
        "ax.plot(cml_x, cml_y, color='goldenrod', marker= 'x', markersize= 10)\n",
        "ax.set_xlim(left = 0)\n",
        "ax.set_title('Efficient Frontier and CML')"
      ],
      "execution_count": null,
      "outputs": [
        {
          "output_type": "execute_result",
          "data": {
            "text/plain": [
              "Text(0.5, 1.0, 'Efficient Frontier and CML')"
            ]
          },
          "metadata": {
            "tags": []
          },
          "execution_count": 359
        },
        {
          "output_type": "display_data",
          "data": {
            "image/png": "[encoded data removed]",
            "text/plain": [
              "<Figure size 432x288 with 1 Axes>"
            ]
          },
          "metadata": {
            "tags": [],
            "needs_background": "light"
          }
        }
      ]
    },
    {
      "cell_type": "code",
      "metadata": {
        "colab": {
          "base_uri": "https://localhost:8080/"
        },
        "id": "l1QqsHYHwGij",
        "outputId": "02210520-18d9-4dd6-e6cd-11635417a3c3"
      },
      "source": [
        "ret_msr, vol_msr"
      ],
      "execution_count": null,
      "outputs": [
        {
          "output_type": "execute_result",
          "data": {
            "text/plain": [
              "(1.4310064792938935, 0.2316469234915995)"
            ]
          },
          "metadata": {
            "tags": []
          },
          "execution_count": 348
        }
      ]
    },
    {
      "cell_type": "code",
      "metadata": {
        "colab": {
          "base_uri": "https://localhost:8080/",
          "height": 359
        },
        "id": "5HX4QUhGwGij",
        "outputId": "70e49bdf-3743-43e6-cc0c-4eeb1ca8481c"
      },
      "source": [
        "pd.DataFrame({'Weights': w_msr}, index=stock_returns.columns).sort_values(by='Weights')[:]"
      ],
      "execution_count": null,
      "outputs": [
        {
          "output_type": "execute_result",
          "data": {
            "text/html": [
              "<div>\n",
              "<style scoped>\n",
              "    .dataframe tbody tr th:only-of-type {\n",
              "        vertical-align: middle;\n",
              "    }\n",
              "\n",
              "    .dataframe tbody tr th {\n",
              "        vertical-align: top;\n",
              "    }\n",
              "\n",
              "    .dataframe thead th {\n",
              "        text-align: right;\n",
              "    }\n",
              "</style>\n",
              "<table border=\"1\" class=\"dataframe\">\n",
              "  <thead>\n",
              "    <tr style=\"text-align: right;\">\n",
              "      <th></th>\n",
              "      <th>Weights</th>\n",
              "    </tr>\n",
              "  </thead>\n",
              "  <tbody>\n",
              "    <tr>\n",
              "      <th>AMGN</th>\n",
              "      <td>0.000000e+00</td>\n",
              "    </tr>\n",
              "    <tr>\n",
              "      <th>PFE</th>\n",
              "      <td>0.000000e+00</td>\n",
              "    </tr>\n",
              "    <tr>\n",
              "      <th>SBUX</th>\n",
              "      <td>0.000000e+00</td>\n",
              "    </tr>\n",
              "    <tr>\n",
              "      <th>FB</th>\n",
              "      <td>0.000000e+00</td>\n",
              "    </tr>\n",
              "    <tr>\n",
              "      <th>AAPL</th>\n",
              "      <td>9.329993e-15</td>\n",
              "    </tr>\n",
              "    <tr>\n",
              "      <th>NFLX</th>\n",
              "      <td>4.622995e-14</td>\n",
              "    </tr>\n",
              "    <tr>\n",
              "      <th>TSLA</th>\n",
              "      <td>5.485852e-14</td>\n",
              "    </tr>\n",
              "    <tr>\n",
              "      <th>MCD</th>\n",
              "      <td>4.994089e-02</td>\n",
              "    </tr>\n",
              "    <tr>\n",
              "      <th>AXP</th>\n",
              "      <td>3.894703e-01</td>\n",
              "    </tr>\n",
              "    <tr>\n",
              "      <th>GOOG</th>\n",
              "      <td>5.605888e-01</td>\n",
              "    </tr>\n",
              "  </tbody>\n",
              "</table>\n",
              "</div>"
            ],
            "text/plain": [
              "           Weights\n",
              "AMGN  0.000000e+00\n",
              "PFE   0.000000e+00\n",
              "SBUX  0.000000e+00\n",
              "FB    0.000000e+00\n",
              "AAPL  9.329993e-15\n",
              "NFLX  4.622995e-14\n",
              "TSLA  5.485852e-14\n",
              "MCD   4.994089e-02\n",
              "AXP   3.894703e-01\n",
              "GOOG  5.605888e-01"
            ]
          },
          "metadata": {
            "tags": []
          },
          "execution_count": 349
        }
      ]
    },
    {
      "cell_type": "markdown",
      "metadata": {
        "id": "T2UZLZBSwGin"
      },
      "source": [
        "## Calculating Beta"
      ]
    },
    {
      "cell_type": "code",
      "metadata": {
        "id": "qhe7oNTMwGip"
      },
      "source": [
        "import statsmodels.api as sm\n",
        "from statsmodels import regression"
      ],
      "execution_count": null,
      "outputs": []
    },
    {
      "cell_type": "code",
      "metadata": {
        "id": "MEhSAf-4wGiq"
      },
      "source": [
        "nyse=wb.DataReader('NYA', data_source='yahoo', start='2021-01-07')\n",
        "nyse = nyse[['Close']]\n",
        "nyse.columns = ['NYSE']"
      ],
      "execution_count": null,
      "outputs": []
    },
    {
      "cell_type": "code",
      "metadata": {
        "colab": {
          "base_uri": "https://localhost:8080/",
          "height": 450
        },
        "id": "6FYBElkcwGir",
        "outputId": "33569e6e-f8fd-433b-d94e-67a4804750ef"
      },
      "source": [
        "portfolio = pd.concat([portfolio, nyse], axis=1)\n",
        "portfolio"
      ],
      "execution_count": null,
      "outputs": [
        {
          "output_type": "execute_result",
          "data": {
            "text/html": [
              "<div>\n",
              "<style scoped>\n",
              "    .dataframe tbody tr th:only-of-type {\n",
              "        vertical-align: middle;\n",
              "    }\n",
              "\n",
              "    .dataframe tbody tr th {\n",
              "        vertical-align: top;\n",
              "    }\n",
              "\n",
              "    .dataframe thead th {\n",
              "        text-align: right;\n",
              "    }\n",
              "</style>\n",
              "<table border=\"1\" class=\"dataframe\">\n",
              "  <thead>\n",
              "    <tr style=\"text-align: right;\">\n",
              "      <th></th>\n",
              "      <th>AXP</th>\n",
              "      <th>AMGN</th>\n",
              "      <th>PFE</th>\n",
              "      <th>SBUX</th>\n",
              "      <th>MCD</th>\n",
              "      <th>NFLX</th>\n",
              "      <th>GOOG</th>\n",
              "      <th>AAPL</th>\n",
              "      <th>FB</th>\n",
              "      <th>TSLA</th>\n",
              "      <th>NYSE</th>\n",
              "    </tr>\n",
              "    <tr>\n",
              "      <th>Date</th>\n",
              "      <th></th>\n",
              "      <th></th>\n",
              "      <th></th>\n",
              "      <th></th>\n",
              "      <th></th>\n",
              "      <th></th>\n",
              "      <th></th>\n",
              "      <th></th>\n",
              "      <th></th>\n",
              "      <th></th>\n",
              "      <th></th>\n",
              "    </tr>\n",
              "  </thead>\n",
              "  <tbody>\n",
              "    <tr>\n",
              "      <th>2021-01-07</th>\n",
              "      <td>121.295418</td>\n",
              "      <td>232.292786</td>\n",
              "      <td>36.661175</td>\n",
              "      <td>102.911873</td>\n",
              "      <td>210.683701</td>\n",
              "      <td>508.890015</td>\n",
              "      <td>1787.250000</td>\n",
              "      <td>130.724655</td>\n",
              "      <td>268.739990</td>\n",
              "      <td>816.039978</td>\n",
              "      <td>14928.799805</td>\n",
              "    </tr>\n",
              "    <tr>\n",
              "      <th>2021-01-08</th>\n",
              "      <td>121.415054</td>\n",
              "      <td>236.729797</td>\n",
              "      <td>36.730423</td>\n",
              "      <td>105.222038</td>\n",
              "      <td>214.549911</td>\n",
              "      <td>510.399994</td>\n",
              "      <td>1807.209961</td>\n",
              "      <td>131.852966</td>\n",
              "      <td>267.570007</td>\n",
              "      <td>880.020020</td>\n",
              "      <td>14966.799805</td>\n",
              "    </tr>\n",
              "    <tr>\n",
              "      <th>2021-01-11</th>\n",
              "      <td>120.697212</td>\n",
              "      <td>235.816589</td>\n",
              "      <td>37.363533</td>\n",
              "      <td>104.156570</td>\n",
              "      <td>212.919937</td>\n",
              "      <td>499.100006</td>\n",
              "      <td>1766.719971</td>\n",
              "      <td>128.787552</td>\n",
              "      <td>256.839996</td>\n",
              "      <td>811.190002</td>\n",
              "      <td>14938.000000</td>\n",
              "    </tr>\n",
              "    <tr>\n",
              "      <th>2021-01-12</th>\n",
              "      <td>121.255539</td>\n",
              "      <td>234.843811</td>\n",
              "      <td>36.779884</td>\n",
              "      <td>102.384117</td>\n",
              "      <td>210.306030</td>\n",
              "      <td>494.250000</td>\n",
              "      <td>1746.550049</td>\n",
              "      <td>128.607819</td>\n",
              "      <td>251.089996</td>\n",
              "      <td>849.440002</td>\n",
              "      <td>15010.299805</td>\n",
              "    </tr>\n",
              "    <tr>\n",
              "      <th>2021-01-13</th>\n",
              "      <td>122.033203</td>\n",
              "      <td>235.985321</td>\n",
              "      <td>36.463326</td>\n",
              "      <td>102.453819</td>\n",
              "      <td>210.793030</td>\n",
              "      <td>507.790009</td>\n",
              "      <td>1754.400024</td>\n",
              "      <td>130.694702</td>\n",
              "      <td>251.639999</td>\n",
              "      <td>854.409973</td>\n",
              "      <td>14983.599609</td>\n",
              "    </tr>\n",
              "    <tr>\n",
              "      <th>...</th>\n",
              "      <td>...</td>\n",
              "      <td>...</td>\n",
              "      <td>...</td>\n",
              "      <td>...</td>\n",
              "      <td>...</td>\n",
              "      <td>...</td>\n",
              "      <td>...</td>\n",
              "      <td>...</td>\n",
              "      <td>...</td>\n",
              "      <td>...</td>\n",
              "      <td>...</td>\n",
              "    </tr>\n",
              "    <tr>\n",
              "      <th>2021-04-05</th>\n",
              "      <td>146.059998</td>\n",
              "      <td>252.020004</td>\n",
              "      <td>36.279999</td>\n",
              "      <td>111.019997</td>\n",
              "      <td>228.850006</td>\n",
              "      <td>540.669983</td>\n",
              "      <td>2225.550049</td>\n",
              "      <td>125.900002</td>\n",
              "      <td>308.910004</td>\n",
              "      <td>691.049988</td>\n",
              "      <td>15870.299805</td>\n",
              "    </tr>\n",
              "    <tr>\n",
              "      <th>2021-04-06</th>\n",
              "      <td>146.149994</td>\n",
              "      <td>249.100006</td>\n",
              "      <td>36.049999</td>\n",
              "      <td>113.150002</td>\n",
              "      <td>231.910004</td>\n",
              "      <td>544.530029</td>\n",
              "      <td>2224.750000</td>\n",
              "      <td>126.209999</td>\n",
              "      <td>306.260010</td>\n",
              "      <td>691.619995</td>\n",
              "      <td>15878.000000</td>\n",
              "    </tr>\n",
              "    <tr>\n",
              "      <th>2021-04-07</th>\n",
              "      <td>147.130005</td>\n",
              "      <td>248.119995</td>\n",
              "      <td>35.910000</td>\n",
              "      <td>113.190002</td>\n",
              "      <td>232.610001</td>\n",
              "      <td>546.989990</td>\n",
              "      <td>2249.679932</td>\n",
              "      <td>127.900002</td>\n",
              "      <td>313.089996</td>\n",
              "      <td>670.969971</td>\n",
              "      <td>15838.799805</td>\n",
              "    </tr>\n",
              "    <tr>\n",
              "      <th>2021-04-08</th>\n",
              "      <td>147.039993</td>\n",
              "      <td>246.880005</td>\n",
              "      <td>35.959999</td>\n",
              "      <td>113.040001</td>\n",
              "      <td>230.250000</td>\n",
              "      <td>554.580017</td>\n",
              "      <td>2265.439941</td>\n",
              "      <td>130.360001</td>\n",
              "      <td>313.019989</td>\n",
              "      <td>683.799988</td>\n",
              "      <td>15886.599609</td>\n",
              "    </tr>\n",
              "    <tr>\n",
              "      <th>2021-04-09</th>\n",
              "      <td>147.779999</td>\n",
              "      <td>248.949997</td>\n",
              "      <td>36.599998</td>\n",
              "      <td>113.180000</td>\n",
              "      <td>231.479996</td>\n",
              "      <td>555.309998</td>\n",
              "      <td>2285.879883</td>\n",
              "      <td>133.000000</td>\n",
              "      <td>312.459991</td>\n",
              "      <td>677.020020</td>\n",
              "      <td>NaN</td>\n",
              "    </tr>\n",
              "  </tbody>\n",
              "</table>\n",
              "<p>64 rows × 11 columns</p>\n",
              "</div>"
            ],
            "text/plain": [
              "                   AXP        AMGN  ...        TSLA          NYSE\n",
              "Date                                ...                          \n",
              "2021-01-07  121.295418  232.292786  ...  816.039978  14928.799805\n",
              "2021-01-08  121.415054  236.729797  ...  880.020020  14966.799805\n",
              "2021-01-11  120.697212  235.816589  ...  811.190002  14938.000000\n",
              "2021-01-12  121.255539  234.843811  ...  849.440002  15010.299805\n",
              "2021-01-13  122.033203  235.985321  ...  854.409973  14983.599609\n",
              "...                ...         ...  ...         ...           ...\n",
              "2021-04-05  146.059998  252.020004  ...  691.049988  15870.299805\n",
              "2021-04-06  146.149994  249.100006  ...  691.619995  15878.000000\n",
              "2021-04-07  147.130005  248.119995  ...  670.969971  15838.799805\n",
              "2021-04-08  147.039993  246.880005  ...  683.799988  15886.599609\n",
              "2021-04-09  147.779999  248.949997  ...  677.020020           NaN\n",
              "\n",
              "[64 rows x 11 columns]"
            ]
          },
          "metadata": {
            "tags": []
          },
          "execution_count": 352
        }
      ]
    },
    {
      "cell_type": "code",
      "metadata": {
        "scrolled": false,
        "colab": {
          "base_uri": "https://localhost:8080/",
          "height": 235
        },
        "id": "IOEAJZoWwGis",
        "outputId": "6178f197-8b61-40cf-9146-31d617d0f4b4"
      },
      "source": [
        "stock_returns = portfolio.pct_change(1)[1:]\n",
        "stock_returns.head()"
      ],
      "execution_count": null,
      "outputs": [
        {
          "output_type": "execute_result",
          "data": {
            "text/html": [
              "<div>\n",
              "<style scoped>\n",
              "    .dataframe tbody tr th:only-of-type {\n",
              "        vertical-align: middle;\n",
              "    }\n",
              "\n",
              "    .dataframe tbody tr th {\n",
              "        vertical-align: top;\n",
              "    }\n",
              "\n",
              "    .dataframe thead th {\n",
              "        text-align: right;\n",
              "    }\n",
              "</style>\n",
              "<table border=\"1\" class=\"dataframe\">\n",
              "  <thead>\n",
              "    <tr style=\"text-align: right;\">\n",
              "      <th></th>\n",
              "      <th>AXP</th>\n",
              "      <th>AMGN</th>\n",
              "      <th>PFE</th>\n",
              "      <th>SBUX</th>\n",
              "      <th>MCD</th>\n",
              "      <th>NFLX</th>\n",
              "      <th>GOOG</th>\n",
              "      <th>AAPL</th>\n",
              "      <th>FB</th>\n",
              "      <th>TSLA</th>\n",
              "      <th>NYSE</th>\n",
              "    </tr>\n",
              "    <tr>\n",
              "      <th>Date</th>\n",
              "      <th></th>\n",
              "      <th></th>\n",
              "      <th></th>\n",
              "      <th></th>\n",
              "      <th></th>\n",
              "      <th></th>\n",
              "      <th></th>\n",
              "      <th></th>\n",
              "      <th></th>\n",
              "      <th></th>\n",
              "      <th></th>\n",
              "    </tr>\n",
              "  </thead>\n",
              "  <tbody>\n",
              "    <tr>\n",
              "      <th>2021-01-08</th>\n",
              "      <td>0.000986</td>\n",
              "      <td>0.019101</td>\n",
              "      <td>0.001889</td>\n",
              "      <td>0.022448</td>\n",
              "      <td>0.018351</td>\n",
              "      <td>0.002967</td>\n",
              "      <td>0.011168</td>\n",
              "      <td>0.008631</td>\n",
              "      <td>-0.004354</td>\n",
              "      <td>0.078403</td>\n",
              "      <td>0.002545</td>\n",
              "    </tr>\n",
              "    <tr>\n",
              "      <th>2021-01-11</th>\n",
              "      <td>-0.005912</td>\n",
              "      <td>-0.003858</td>\n",
              "      <td>0.017237</td>\n",
              "      <td>-0.010126</td>\n",
              "      <td>-0.007597</td>\n",
              "      <td>-0.022139</td>\n",
              "      <td>-0.022405</td>\n",
              "      <td>-0.023249</td>\n",
              "      <td>-0.040102</td>\n",
              "      <td>-0.078214</td>\n",
              "      <td>-0.001924</td>\n",
              "    </tr>\n",
              "    <tr>\n",
              "      <th>2021-01-12</th>\n",
              "      <td>0.004626</td>\n",
              "      <td>-0.004125</td>\n",
              "      <td>-0.015621</td>\n",
              "      <td>-0.017017</td>\n",
              "      <td>-0.012276</td>\n",
              "      <td>-0.009718</td>\n",
              "      <td>-0.011417</td>\n",
              "      <td>-0.001396</td>\n",
              "      <td>-0.022387</td>\n",
              "      <td>0.047153</td>\n",
              "      <td>0.004840</td>\n",
              "    </tr>\n",
              "    <tr>\n",
              "      <th>2021-01-13</th>\n",
              "      <td>0.006413</td>\n",
              "      <td>0.004861</td>\n",
              "      <td>-0.008607</td>\n",
              "      <td>0.000681</td>\n",
              "      <td>0.002316</td>\n",
              "      <td>0.027395</td>\n",
              "      <td>0.004495</td>\n",
              "      <td>0.016227</td>\n",
              "      <td>0.002190</td>\n",
              "      <td>0.005851</td>\n",
              "      <td>-0.001779</td>\n",
              "    </tr>\n",
              "    <tr>\n",
              "      <th>2021-01-14</th>\n",
              "      <td>0.011274</td>\n",
              "      <td>0.016489</td>\n",
              "      <td>-0.002984</td>\n",
              "      <td>-0.010399</td>\n",
              "      <td>-0.016927</td>\n",
              "      <td>-0.013647</td>\n",
              "      <td>-0.008105</td>\n",
              "      <td>-0.015127</td>\n",
              "      <td>-0.023844</td>\n",
              "      <td>-0.011013</td>\n",
              "      <td>0.004058</td>\n",
              "    </tr>\n",
              "  </tbody>\n",
              "</table>\n",
              "</div>"
            ],
            "text/plain": [
              "                 AXP      AMGN       PFE  ...        FB      TSLA      NYSE\n",
              "Date                                      ...                              \n",
              "2021-01-08  0.000986  0.019101  0.001889  ... -0.004354  0.078403  0.002545\n",
              "2021-01-11 -0.005912 -0.003858  0.017237  ... -0.040102 -0.078214 -0.001924\n",
              "2021-01-12  0.004626 -0.004125 -0.015621  ... -0.022387  0.047153  0.004840\n",
              "2021-01-13  0.006413  0.004861 -0.008607  ...  0.002190  0.005851 -0.001779\n",
              "2021-01-14  0.011274  0.016489 -0.002984  ... -0.023844 -0.011013  0.004058\n",
              "\n",
              "[5 rows x 11 columns]"
            ]
          },
          "metadata": {
            "tags": []
          },
          "execution_count": 353
        }
      ]
    },
    {
      "cell_type": "code",
      "metadata": {
        "id": "N-_U9WW2wGis"
      },
      "source": [
        "def beta(i):\n",
        "    X = stock_returns['NYSE'].values\n",
        "    Y = stock_returns[str(i)].values\n",
        "    def linreg(X, Y):\n",
        "        x = sm.add_constant(X)\n",
        "        model = regression.linear_model.OLS(Y, x).fit()\n",
        "\n",
        "        #x = x[:, 1]\n",
        "        return model.params[0], model.params[1]\n",
        "    alpha, beta = linreg(X, Y)\n",
        "    return alpha, beta"
      ],
      "execution_count": null,
      "outputs": []
    },
    {
      "cell_type": "code",
      "metadata": {
        "scrolled": true,
        "colab": {
          "base_uri": "https://localhost:8080/"
        },
        "id": "E5VOk6sHwGit",
        "outputId": "dafaa7c7-2bda-40da-edd6-9e95fe407f6d"
      },
      "source": [
        "col = np.array(portfolio.columns)\n",
        "for i in col[:-1]:\n",
        "    print('Alpha of '+str(i)+':', beta(str(i))[0])\n",
        "    print('Beta of '+str(i)+':', beta(str(i))[1])\n",
        "    print('')"
      ],
      "execution_count": null,
      "outputs": [
        {
          "output_type": "stream",
          "text": [
            "Alpha of AXP: 0.002070655362297915\n",
            "Beta of AXP: 1.2074638997482783\n",
            "\n",
            "Alpha of AMGN: 0.0005605332721625105\n",
            "Beta of AMGN: 0.5945366619470873\n",
            "\n",
            "Alpha of PFE: -0.00016099279194738744\n",
            "Beta of PFE: 0.17695277315628186\n",
            "\n",
            "Alpha of SBUX: 0.0007985771234677619\n",
            "Beta of SBUX: 0.8261117322091558\n",
            "\n",
            "Alpha of MCD: 0.001016888377478684\n",
            "Beta of MCD: 0.530350057144008\n",
            "\n",
            "Alpha of NFLX: 0.0005776118490561279\n",
            "Beta of NFLX: 1.183896384507105\n",
            "\n",
            "Alpha of GOOG: 0.0030200477381433512\n",
            "Beta of GOOG: 1.055579460907589\n",
            "\n",
            "Alpha of AAPL: -0.00043144087996708493\n",
            "Beta of AAPL: 0.8756224715737112\n",
            "\n",
            "Alpha of FB: 0.0018311599680954447\n",
            "Beta of FB: 0.7555053164491901\n",
            "\n",
            "Alpha of TSLA: -0.004102968154604187\n",
            "Beta of TSLA: 2.0531631097885814\n",
            "\n"
          ],
          "name": "stdout"
        }
      ]
    },
    {
      "cell_type": "markdown",
      "metadata": {
        "id": "bbtDwldRwGit"
      },
      "source": [
        "For eg, here Beta(TESLA) is 2.05.\n",
        "\n",
        "This implies that for every 1% change in price of the market (NYSE), the stock of TESLA changes its price by 2.05%. "
      ]
    },
    {
      "cell_type": "code",
      "metadata": {
        "id": "39pkU3JgFkuM"
      },
      "source": [
        "def SecurityMarketLine(rf,betas,labels):\n",
        "    rm = [x/10 for x in range(10)]\n",
        "    labels=labels\n",
        "    color=['r','b','g']\n",
        "\n",
        "    for i in range(len(betas)):\n",
        "        assetReturns=[betas[i]*x +rf*(1-betas[i]) for x in rm] \n",
        "        plt.plot(rm,assetReturns,label=labels[i],c=color[i])\n",
        "    \n",
        "    marketReturn=[1*x +rf*(1-1) for x in rm] \n",
        "    plt.xlabel(\"Market Return\")\n",
        "    plt.legend(loc = 'lower right')\n",
        "    plt.ylabel(\"Asset Return\")\n",
        "    plt.title(\"Security Market Line\")\n",
        "    plt.show()"
      ],
      "execution_count": null,
      "outputs": []
    },
    {
      "cell_type": "code",
      "metadata": {
        "colab": {
          "base_uri": "https://localhost:8080/",
          "height": 296
        },
        "id": "L3rlt3JWMTol",
        "outputId": "5d2f23ba-3701-44d4-d712-6b9a5db8ed4c"
      },
      "source": [
        "betas=[1.055,0.755,2.05]\n",
        "labels=['Beta_GOOG','Beta_FB','Beta_TESLA']\n",
        "SecurityMarketLine(.08,betas,labels)"
      ],
      "execution_count": null,
      "outputs": [
        {
          "output_type": "display_data",
          "data": {
            "image/png": "[encoded data removed]",
            "text/plain": [
              "<Figure size 432x288 with 1 Axes>"
            ]
          },
          "metadata": {
            "tags": [],
            "needs_background": "light"
          }
        }
      ]
    }
  ]
}